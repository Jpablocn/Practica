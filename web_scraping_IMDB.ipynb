{
  "nbformat": 4,
  "nbformat_minor": 0,
  "metadata": {
    "colab": {
      "name": "web_scraping_IMDB_JOSE.ipynb",
      "provenance": [],
      "collapsed_sections": []
    },
    "kernelspec": {
      "name": "python3",
      "display_name": "Python 3"
    }
  },
  "cells": [
    {
      "cell_type": "markdown",
      "metadata": {
        "id": "_iVhC0CJ0Z2G"
      },
      "source": [
        "# Prueba de Datos Peliculas\n",
        "\n",
        "OJO: Este script está pensado para ejecutarse de modo local:\n",
        "Paso 1: ejecutar jupyter notebooks con permisospara collaboratory mediante cmd(\n",
        "jupyter notebook \n",
        "  --NotebookApp.allow_origin='https://colab.research.google.com' \n",
        "  --port=8888 \n",
        "  --NotebookApp.port_retries=0\n",
        "  )\n",
        "Apretar reconectar, luego conectar a un entorno de ejecución local"
      ]
    },
    {
      "cell_type": "code",
      "metadata": {
        "id": "3N45OtSLz0T6"
      },
      "source": [
        "import pymysql\n",
        "import warnings\n",
        "import pandas as pd"
      ],
      "execution_count": null,
      "outputs": []
    },
    {
      "cell_type": "code",
      "metadata": {
        "id": "O3vFVUy40adv"
      },
      "source": [
        "connection = pymysql.connect(host=\"mel.analytics.cl\", user=\"jterrazas\",password=\"11jterrazas54\",db=\"Cineplanet_Chile\", port=33060)\n",
        "\n",
        "query = \"SELECT * FROM PELICULAS_VIGENTES;\"\n",
        "peliculas = pd.read_sql(query, connection)"
      ],
      "execution_count": null,
      "outputs": []
    },
    {
      "cell_type": "code",
      "metadata": {
        "id": "bxm6bXFM2BAm",
        "colab": {
          "base_uri": "https://localhost:8080/",
          "height": 34
        },
        "outputId": "9ca6107c-83ff-4109-e465-d14963647b75"
      },
      "source": [
        "peliculas.shape"
      ],
      "execution_count": null,
      "outputs": [
        {
          "output_type": "execute_result",
          "data": {
            "text/plain": [
              "(12, 2)"
            ]
          },
          "metadata": {
            "tags": []
          },
          "execution_count": 3
        }
      ]
    },
    {
      "cell_type": "code",
      "metadata": {
        "id": "hNgNtg0j2C2I",
        "colab": {
          "base_uri": "https://localhost:8080/",
          "height": 204
        },
        "outputId": "de6fe38c-ab53-4a78-8696-27d408854b96"
      },
      "source": [
        "peliculas.head()"
      ],
      "execution_count": null,
      "outputs": [
        {
          "output_type": "execute_result",
          "data": {
            "text/plain": [
              "           id                                    titulo\n",
              "0  HO00000490               AVENGERS: ENDGAME EXTENDIDA\n",
              "1  HO00000494                CINE ARTE 2019: EL PADRINO\n",
              "2  HO00000495  METALLICA & SAN FRANCISCO SYMPHONY: S&M2\n",
              "3  HO00000472                     LA NOCHE DE LAS NERDS\n",
              "4  HO00000457                   PAW PATROL: MIGHTY PUPS"
            ],
            "text/html": [
              "<div>\n",
              "<style scoped>\n",
              "    .dataframe tbody tr th:only-of-type {\n",
              "        vertical-align: middle;\n",
              "    }\n",
              "\n",
              "    .dataframe tbody tr th {\n",
              "        vertical-align: top;\n",
              "    }\n",
              "\n",
              "    .dataframe thead th {\n",
              "        text-align: right;\n",
              "    }\n",
              "</style>\n",
              "<table border=\"1\" class=\"dataframe\">\n",
              "  <thead>\n",
              "    <tr style=\"text-align: right;\">\n",
              "      <th></th>\n",
              "      <th>id</th>\n",
              "      <th>titulo</th>\n",
              "    </tr>\n",
              "  </thead>\n",
              "  <tbody>\n",
              "    <tr>\n",
              "      <th>0</th>\n",
              "      <td>HO00000490</td>\n",
              "      <td>AVENGERS: ENDGAME EXTENDIDA</td>\n",
              "    </tr>\n",
              "    <tr>\n",
              "      <th>1</th>\n",
              "      <td>HO00000494</td>\n",
              "      <td>CINE ARTE 2019: EL PADRINO</td>\n",
              "    </tr>\n",
              "    <tr>\n",
              "      <th>2</th>\n",
              "      <td>HO00000495</td>\n",
              "      <td>METALLICA &amp; SAN FRANCISCO SYMPHONY: S&amp;M2</td>\n",
              "    </tr>\n",
              "    <tr>\n",
              "      <th>3</th>\n",
              "      <td>HO00000472</td>\n",
              "      <td>LA NOCHE DE LAS NERDS</td>\n",
              "    </tr>\n",
              "    <tr>\n",
              "      <th>4</th>\n",
              "      <td>HO00000457</td>\n",
              "      <td>PAW PATROL: MIGHTY PUPS</td>\n",
              "    </tr>\n",
              "  </tbody>\n",
              "</table>\n",
              "</div>"
            ]
          },
          "metadata": {
            "tags": []
          },
          "execution_count": 4
        }
      ]
    },
    {
      "cell_type": "code",
      "metadata": {
        "id": "HX7lcRdC2E3V"
      },
      "source": [
        "import re\n",
        "import time\n",
        "import requests\n",
        "from bs4 import BeautifulSoup\n",
        "#from omdb import OMDBClient\n",
        "import urllib.request, urllib.parse, urllib.error\n",
        "from urllib.parse import urlencode, urlparse\n",
        "import json\n",
        "\n",
        "def search_movie(id_movie):\n",
        "\tserviceurl = 'http://www.omdbapi.com/?'\n",
        "\tapikey = '&apikey='+\"e0dd629a\" # el segundo numero es la api key\n",
        "\tif len(id_movie) < 1 or id_movie=='quit': \n",
        "\t\tprint(\"Goodbye now...\")\n",
        "\t\treturn None\n",
        "\ttry:\n",
        "\t\turl = serviceurl + urllib.parse.urlencode({'i': id_movie})+apikey\n",
        "\t\t#print(f'Retrieving the data of \"{id_movie}\" now... ')\n",
        "\t\tuh = urllib.request.urlopen(url)\n",
        "\t\tdata = uh.read()\n",
        "\t\tjson_data=json.loads(data)\n",
        "\t\treturn(json_data)\n",
        "\texcept urllib.error.URLError as e:\n",
        "\t\t#print(f\"ERROR: {e.reason}\")\n",
        "\t\treturn None\n",
        "\n",
        "def getOmdData(title):\n",
        "\tactual_title = re.sub(\"[*].*$\",\"\",title)\n",
        "\tactual_title_list =  actual_title.split(\" \")\n",
        "\tactual_title_query = \"%20\".join(actual_title_list)\n",
        "\tactual_title_query = \"https://www.imdb.com/find?s=all&q=\"+actual_title_query+\"&ref_=nv_sr_sm\"\n",
        "\t\n",
        "\ttime.sleep(1)\n",
        "\treq = requests.get(actual_title_query)\n",
        "\tsoup = BeautifulSoup(req.text, \"lxml\")\n",
        "\tactual_title_webscrape = soup.select('.primary_photo a')\n",
        "\tmovie_id = str(actual_title_webscrape).split('/')[2]\n",
        "\tactual_title_params = search_movie(movie_id)\n",
        "\n",
        "\treturn actual_title_params\n",
        "\n",
        "\n",
        "def create_dataset(titles):\n",
        "\tdataset = pd.DataFrame(columns=['Actors','Country','Director'\n",
        "\t\t,'Genre','Language','Metascore','Plot','Production','Released'\n",
        "\t\t,'Runtime','Title','Year','imdbRating','imdbVotes'])#,'PEL_ID'])\n",
        "\tnot_founds=[]\n",
        "\ttitulo_original=[]\n",
        "\ti=1\n",
        "\ttiempo_ejecucion = []\n",
        "\tfor tit in titles:\n",
        "\t\ttime1 = time.time()\n",
        "\t\tprint(i,\". \", tit)\n",
        "\t\ttry:\n",
        "\t\t\tpelicula = getOmdData(tit)\n",
        "\t\t\tbla = pd.DataFrame({'Actors': [pelicula['Actors']]\n",
        "\t\t\t\t,'Country':[pelicula['Country']]\n",
        "\t\t\t\t,'Director' : [pelicula['Director']]\n",
        "\t\t\t\t,'Genre':[pelicula['Genre']]\n",
        "\t\t\t\t,'Language':[pelicula['Language']]\n",
        "\t\t\t\t,'Metascore':[pelicula['Metascore']]\n",
        "\t\t\t\t,'Plot':[pelicula['Plot']]\n",
        "\t\t\t\t,'Production':[pelicula['Production']]\n",
        "\t\t\t\t,'Released':[pelicula['Released']]\n",
        "\t\t\t\t,'Runtime':[pelicula['Runtime']]\n",
        "\t\t\t\t,'Title':[pelicula['Title']]\n",
        "\t\t\t\t,'Year':[pelicula['Year']]\n",
        "\t\t\t\t,'imdbRating':[pelicula['imdbRating']]\n",
        "\t\t\t\t,'imdbVotes':[pelicula['imdbVotes']]\n",
        "\t\t\t\t#,'PEL_ID': [peliculas.PEL_ID[titles==tit].iloc[0]]\n",
        "\t\t\t\t})\n",
        "\t\t\ttitulo_original.append(pelicula['Title'])\n",
        "\t\t\tdataset = dataset.append(bla)\n",
        "\t\texcept:\n",
        "\t\t\ttitulo_original.append('NO ENCONTRADO')\n",
        "\t\t\tnot_founds.append(tit)\n",
        "\t\ttime2 = time.time()\n",
        "\t\ttiempo_ejecucion.append(time2 - time1)\n",
        "\t\ti=i+1\n",
        "\n",
        "\tdataset.Title = [re.sub(r'[^a-zA-Z\\s]', \"\", c).lower() for c in dataset.Title]\n",
        "\tdataset = dataset.reset_index(drop=True)\n",
        "\tprint(\"Fin de busqueda de informacion sobre peliculas\")\n",
        "\tprint(\"No Encontrados: \", not_founds)\n",
        "\tprint()\n",
        "\treturn dataset"
      ],
      "execution_count": null,
      "outputs": []
    },
    {
      "cell_type": "code",
      "metadata": {
        "id": "8OFmKo2g2kH1",
        "colab": {
          "base_uri": "https://localhost:8080/",
          "height": 272
        },
        "outputId": "165151b8-dbd4-423a-ec76-68cd0143caf9"
      },
      "source": [
        "dataset = create_dataset(peliculas.titulo)"
      ],
      "execution_count": null,
      "outputs": [
        {
          "output_type": "stream",
          "text": [
            "1 .  AVENGERS: ENDGAME EXTENDIDA\n",
            "2 .  CINE ARTE 2019: EL PADRINO\n",
            "3 .  METALLICA & SAN FRANCISCO SYMPHONY: S&M2\n",
            "4 .  LA NOCHE DE LAS NERDS\n",
            "5 .  PAW PATROL: MIGHTY PUPS\n",
            "6 .  RÁPIDOS Y FURIOSOS: HOBBS & SHAW\n",
            "7 .  LA VIDA SECRETA DE TUS MASCOTAS 2\n",
            "8 .  EL REY LEÓN\n",
            "9 .  ANNABELLE 3: VIENE A CASA\n",
            "10 .  TOY STORY 4\n",
            "11 .  SPIDER-MAN LEJOS DE CASA\n",
            "12 .  EL MUÑECO DIABÓLICO\n",
            "Fin de busqueda de informacion sobre peliculas\n",
            "No Encontrados:  ['AVENGERS: ENDGAME EXTENDIDA', 'CINE ARTE 2019: EL PADRINO', 'METALLICA & SAN FRANCISCO SYMPHONY: S&M2', 'PAW PATROL: MIGHTY PUPS']\n",
            "\n"
          ],
          "name": "stdout"
        }
      ]
    },
    {
      "cell_type": "code",
      "metadata": {
        "id": "ZhH1nQpY3O3F",
        "colab": {
          "base_uri": "https://localhost:8080/",
          "height": 493
        },
        "outputId": "4a689bec-5b97-4426-9dd3-d5114e975675"
      },
      "source": [
        "dataset.head()"
      ],
      "execution_count": null,
      "outputs": [
        {
          "output_type": "execute_result",
          "data": {
            "text/plain": [
              "                                              Actors             Country  \\\n",
              "0  Kaitlyn Dever, Beanie Feldstein, Jessica Willi...                 USA   \n",
              "1  Dwayne Johnson, Jason Statham, Idris Elba, Van...             UK, USA   \n",
              "2  Patton Oswalt, Kevin Hart, Harrison Ford, Eric...  France, Japan, USA   \n",
              "3  Chiwetel Ejiofor, John Oliver, James Earl Jone...                 USA   \n",
              "4  Vera Farmiga, Patrick Wilson, Mckenna Grace, M...                 USA   \n",
              "\n",
              "                                      Director  \\\n",
              "0                                 Olivia Wilde   \n",
              "1                                 David Leitch   \n",
              "2  Chris Renaud, Jonathan del Val(co-director)   \n",
              "3                                  Jon Favreau   \n",
              "4                               Gary Dauberman   \n",
              "\n",
              "                                          Genre  \\\n",
              "0                                        Comedy   \n",
              "1                             Action, Adventure   \n",
              "2          Animation, Adventure, Comedy, Family   \n",
              "3  Animation, Adventure, Drama, Family, Musical   \n",
              "4                     Horror, Mystery, Thriller   \n",
              "\n",
              "                        Language Metascore  \\\n",
              "0     English, Mandarin, Spanish        84   \n",
              "1                        English       N/A   \n",
              "2                        English        55   \n",
              "3  English, Hindi, Tamil, Telugu        55   \n",
              "4                        English        53   \n",
              "\n",
              "                                                Plot            Production  \\\n",
              "0  On the eve of their high school graduation, tw...        United Artists   \n",
              "1  Lawman Luke Hobbs and outcast Deckard Shaw for...    Universal Pictures   \n",
              "2  Continuing the story of Max and his pet friend...    Universal Pictures   \n",
              "3  After the murder of his father, a young lion p...  Walt Disney Pictures   \n",
              "4  While babysitting the daughter of Ed and Lorra...       New Line Cinema   \n",
              "\n",
              "      Released  Runtime                               Title  Year imdbRating  \\\n",
              "0  24 May 2019  102 min                           booksmart  2019        7.4   \n",
              "1  01 Aug 2019  135 min  fast  furious presents hobbs  shaw  2019        N/A   \n",
              "2  07 Jun 2019   86 min            the secret life of pets   2019        6.6   \n",
              "3  19 Jul 2019  118 min                       the lion king  2019        7.2   \n",
              "4  26 Jun 2019  106 min                annabelle comes home  2019        6.3   \n",
              "\n",
              "  imdbVotes  \n",
              "0    28,104  \n",
              "1       N/A  \n",
              "2    10,610  \n",
              "3    50,414  \n",
              "4    17,605  "
            ],
            "text/html": [
              "<div>\n",
              "<style scoped>\n",
              "    .dataframe tbody tr th:only-of-type {\n",
              "        vertical-align: middle;\n",
              "    }\n",
              "\n",
              "    .dataframe tbody tr th {\n",
              "        vertical-align: top;\n",
              "    }\n",
              "\n",
              "    .dataframe thead th {\n",
              "        text-align: right;\n",
              "    }\n",
              "</style>\n",
              "<table border=\"1\" class=\"dataframe\">\n",
              "  <thead>\n",
              "    <tr style=\"text-align: right;\">\n",
              "      <th></th>\n",
              "      <th>Actors</th>\n",
              "      <th>Country</th>\n",
              "      <th>Director</th>\n",
              "      <th>Genre</th>\n",
              "      <th>Language</th>\n",
              "      <th>Metascore</th>\n",
              "      <th>Plot</th>\n",
              "      <th>Production</th>\n",
              "      <th>Released</th>\n",
              "      <th>Runtime</th>\n",
              "      <th>Title</th>\n",
              "      <th>Year</th>\n",
              "      <th>imdbRating</th>\n",
              "      <th>imdbVotes</th>\n",
              "    </tr>\n",
              "  </thead>\n",
              "  <tbody>\n",
              "    <tr>\n",
              "      <th>0</th>\n",
              "      <td>Kaitlyn Dever, Beanie Feldstein, Jessica Willi...</td>\n",
              "      <td>USA</td>\n",
              "      <td>Olivia Wilde</td>\n",
              "      <td>Comedy</td>\n",
              "      <td>English, Mandarin, Spanish</td>\n",
              "      <td>84</td>\n",
              "      <td>On the eve of their high school graduation, tw...</td>\n",
              "      <td>United Artists</td>\n",
              "      <td>24 May 2019</td>\n",
              "      <td>102 min</td>\n",
              "      <td>booksmart</td>\n",
              "      <td>2019</td>\n",
              "      <td>7.4</td>\n",
              "      <td>28,104</td>\n",
              "    </tr>\n",
              "    <tr>\n",
              "      <th>1</th>\n",
              "      <td>Dwayne Johnson, Jason Statham, Idris Elba, Van...</td>\n",
              "      <td>UK, USA</td>\n",
              "      <td>David Leitch</td>\n",
              "      <td>Action, Adventure</td>\n",
              "      <td>English</td>\n",
              "      <td>N/A</td>\n",
              "      <td>Lawman Luke Hobbs and outcast Deckard Shaw for...</td>\n",
              "      <td>Universal Pictures</td>\n",
              "      <td>01 Aug 2019</td>\n",
              "      <td>135 min</td>\n",
              "      <td>fast  furious presents hobbs  shaw</td>\n",
              "      <td>2019</td>\n",
              "      <td>N/A</td>\n",
              "      <td>N/A</td>\n",
              "    </tr>\n",
              "    <tr>\n",
              "      <th>2</th>\n",
              "      <td>Patton Oswalt, Kevin Hart, Harrison Ford, Eric...</td>\n",
              "      <td>France, Japan, USA</td>\n",
              "      <td>Chris Renaud, Jonathan del Val(co-director)</td>\n",
              "      <td>Animation, Adventure, Comedy, Family</td>\n",
              "      <td>English</td>\n",
              "      <td>55</td>\n",
              "      <td>Continuing the story of Max and his pet friend...</td>\n",
              "      <td>Universal Pictures</td>\n",
              "      <td>07 Jun 2019</td>\n",
              "      <td>86 min</td>\n",
              "      <td>the secret life of pets</td>\n",
              "      <td>2019</td>\n",
              "      <td>6.6</td>\n",
              "      <td>10,610</td>\n",
              "    </tr>\n",
              "    <tr>\n",
              "      <th>3</th>\n",
              "      <td>Chiwetel Ejiofor, John Oliver, James Earl Jone...</td>\n",
              "      <td>USA</td>\n",
              "      <td>Jon Favreau</td>\n",
              "      <td>Animation, Adventure, Drama, Family, Musical</td>\n",
              "      <td>English, Hindi, Tamil, Telugu</td>\n",
              "      <td>55</td>\n",
              "      <td>After the murder of his father, a young lion p...</td>\n",
              "      <td>Walt Disney Pictures</td>\n",
              "      <td>19 Jul 2019</td>\n",
              "      <td>118 min</td>\n",
              "      <td>the lion king</td>\n",
              "      <td>2019</td>\n",
              "      <td>7.2</td>\n",
              "      <td>50,414</td>\n",
              "    </tr>\n",
              "    <tr>\n",
              "      <th>4</th>\n",
              "      <td>Vera Farmiga, Patrick Wilson, Mckenna Grace, M...</td>\n",
              "      <td>USA</td>\n",
              "      <td>Gary Dauberman</td>\n",
              "      <td>Horror, Mystery, Thriller</td>\n",
              "      <td>English</td>\n",
              "      <td>53</td>\n",
              "      <td>While babysitting the daughter of Ed and Lorra...</td>\n",
              "      <td>New Line Cinema</td>\n",
              "      <td>26 Jun 2019</td>\n",
              "      <td>106 min</td>\n",
              "      <td>annabelle comes home</td>\n",
              "      <td>2019</td>\n",
              "      <td>6.3</td>\n",
              "      <td>17,605</td>\n",
              "    </tr>\n",
              "  </tbody>\n",
              "</table>\n",
              "</div>"
            ]
          },
          "metadata": {
            "tags": []
          },
          "execution_count": 7
        }
      ]
    }
  ]
}