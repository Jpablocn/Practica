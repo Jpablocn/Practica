{
  "nbformat": 4,
  "nbformat_minor": 0,
  "metadata": {
    "colab": {
      "name": "Separacion_genero.ipynb",
      "provenance": [],
      "collapsed_sections": []
    },
    "kernelspec": {
      "name": "python3",
      "display_name": "Python 3"
    }
  },
  "cells": [
    {
      "cell_type": "code",
      "metadata": {
        "id": "Q64UmTTVTYv0",
        "colab": {
          "base_uri": "https://localhost:8080/",
          "height": 173
        },
        "outputId": "141db8de-7727-4d85-e9f3-8f9f917e18f6"
      },
      "source": [
        "!pip install matplotlib\n",
        "import matplotlib\n",
        "\n",
        "import pandas as pd\n",
        "import matplotlib.pyplot as plt\n"
      ],
      "execution_count": null,
      "outputs": [
        {
          "output_type": "stream",
          "text": [
            "Requirement already satisfied: matplotlib in c:\\users\\juan cabeza\\appdata\\local\\programs\\python\\python37\\lib\\site-packages (3.1.0)\n",
            "Requirement already satisfied: kiwisolver>=1.0.1 in c:\\users\\juan cabeza\\appdata\\local\\programs\\python\\python37\\lib\\site-packages (from matplotlib) (1.1.0)\n",
            "Requirement already satisfied: pyparsing!=2.0.4,!=2.1.2,!=2.1.6,>=2.0.1 in c:\\users\\juan cabeza\\appdata\\local\\programs\\python\\python37\\lib\\site-packages (from matplotlib) (2.4.0)\n",
            "Requirement already satisfied: cycler>=0.10 in c:\\users\\juan cabeza\\appdata\\local\\programs\\python\\python37\\lib\\site-packages (from matplotlib) (0.10.0)\n",
            "Requirement already satisfied: numpy>=1.11 in c:\\users\\juan cabeza\\appdata\\local\\programs\\python\\python37\\lib\\site-packages (from matplotlib) (1.16.3)\n",
            "Requirement already satisfied: python-dateutil>=2.1 in c:\\users\\juan cabeza\\appdata\\local\\programs\\python\\python37\\lib\\site-packages (from matplotlib) (2.8.0)\n",
            "Requirement already satisfied: setuptools in c:\\users\\juan cabeza\\appdata\\local\\programs\\python\\python37\\lib\\site-packages (from kiwisolver>=1.0.1->matplotlib) (40.8.0)\n",
            "Requirement already satisfied: six in c:\\users\\juan cabeza\\appdata\\local\\programs\\python\\python37\\lib\\site-packages (from cycler>=0.10->matplotlib) (1.12.0)\n"
          ],
          "name": "stdout"
        }
      ]
    },
    {
      "cell_type": "code",
      "metadata": {
        "id": "oM34KqxGIBvq",
        "colab": {
          "base_uri": "https://localhost:8080/",
          "height": 343
        },
        "outputId": "3f56e4ed-1fc5-49bf-a87e-81a3eaf0586b"
      },
      "source": [
        "# Instalar librerías (sólo la primera vez)\n",
        "!python -m pip install pymysql\n",
        "!pip install cssselect\n",
        "!pip install BeautifulSoup4\n",
        "!pip install lxml\n",
        "!pip install selenium"
      ],
      "execution_count": null,
      "outputs": [
        {
          "output_type": "stream",
          "text": [
            "Requirement already satisfied: pymysql in c:\\users\\juan cabeza\\appdata\\local\\programs\\python\\python37\\lib\\site-packages (0.9.3)\n",
            "Collecting cssselect\n",
            "  Downloading https://files.pythonhosted.org/packages/7b/44/25b7283e50585f0b4156960691d951b05d061abf4a714078393e51929b30/cssselect-1.0.3-py2.py3-none-any.whl\n",
            "Installing collected packages: cssselect\n",
            "Successfully installed cssselect-1.0.3\n",
            "Collecting BeautifulSoup4\n",
            "  Downloading https://files.pythonhosted.org/packages/1d/5d/3260694a59df0ec52f8b4883f5d23b130bc237602a1411fa670eae12351e/beautifulsoup4-4.7.1-py3-none-any.whl (94kB)\n",
            "Collecting soupsieve>=1.2 (from BeautifulSoup4)\n",
            "  Downloading https://files.pythonhosted.org/packages/b9/a5/7ea40d0f8676bde6e464a6435a48bc5db09b1a8f4f06d41dd997b8f3c616/soupsieve-1.9.1-py2.py3-none-any.whl\n",
            "Installing collected packages: soupsieve, BeautifulSoup4\n",
            "Successfully installed BeautifulSoup4-4.7.1 soupsieve-1.9.1\n",
            "Requirement already satisfied: lxml in c:\\users\\juan cabeza\\appdata\\local\\programs\\python\\python37\\lib\\site-packages (4.3.4)\n",
            "Collecting selenium\n",
            "  Downloading https://files.pythonhosted.org/packages/80/d6/4294f0b4bce4de0abf13e17190289f9d0613b0a44e5dd6a7f5ca98459853/selenium-3.141.0-py2.py3-none-any.whl (904kB)\n",
            "Collecting urllib3 (from selenium)\n",
            "  Downloading https://files.pythonhosted.org/packages/e6/60/247f23a7121ae632d62811ba7f273d0e58972d75e58a94d329d51550a47d/urllib3-1.25.3-py2.py3-none-any.whl (150kB)\n",
            "Installing collected packages: urllib3, selenium\n",
            "Successfully installed selenium-3.141.0 urllib3-1.25.3\n"
          ],
          "name": "stdout"
        }
      ]
    },
    {
      "cell_type": "code",
      "metadata": {
        "id": "VUaDx-kuIZNW",
        "colab": {
          "base_uri": "https://localhost:8080/",
          "height": 224
        },
        "outputId": "12e8f04c-005c-4f75-a0e4-5b89a91292ca"
      },
      "source": [
        "!pip install requests"
      ],
      "execution_count": null,
      "outputs": [
        {
          "output_type": "stream",
          "text": [
            "Collecting requests\n",
            "  Downloading https://files.pythonhosted.org/packages/51/bd/23c926cd341ea6b7dd0b2a00aba99ae0f828be89d72b2190f27c11d4b7fb/requests-2.22.0-py2.py3-none-any.whl (57kB)\n",
            "Collecting chardet<3.1.0,>=3.0.2 (from requests)\n",
            "  Downloading https://files.pythonhosted.org/packages/bc/a9/01ffebfb562e4274b6487b4bb1ddec7ca55ec7510b22e4c51f14098443b8/chardet-3.0.4-py2.py3-none-any.whl (133kB)\n",
            "Collecting idna<2.9,>=2.5 (from requests)\n",
            "  Downloading https://files.pythonhosted.org/packages/14/2c/cd551d81dbe15200be1cf41cd03869a46fe7226e7450af7a6545bfc474c9/idna-2.8-py2.py3-none-any.whl (58kB)\n",
            "Requirement already satisfied: urllib3!=1.25.0,!=1.25.1,<1.26,>=1.21.1 in c:\\users\\juan cabeza\\appdata\\local\\programs\\python\\python37\\lib\\site-packages (from requests) (1.25.3)\n",
            "Collecting certifi>=2017.4.17 (from requests)\n",
            "  Downloading https://files.pythonhosted.org/packages/69/1b/b853c7a9d4f6a6d00749e94eb6f3a041e342a885b87340b79c1ef73e3a78/certifi-2019.6.16-py2.py3-none-any.whl (157kB)\n",
            "Installing collected packages: chardet, idna, certifi, requests\n",
            "Successfully installed certifi-2019.6.16 chardet-3.0.4 idna-2.8 requests-2.22.0\n"
          ],
          "name": "stdout"
        }
      ]
    },
    {
      "cell_type": "code",
      "metadata": {
        "id": "b2RMt5QIv3iO"
      },
      "source": [
        "\n",
        "import pymysql\n",
        "import pandas as pd\n",
        "import datetime\n",
        "import urllib.request, urllib.parse, urllib.error\n",
        "import json\n",
        "from pandas.io.json import json_normalize\n",
        "from urllib.parse import urlencode, urlparse, parse_qs\n",
        "from lxml.html import fromstring\n",
        "from requests import get\n",
        "from bs4 import BeautifulSoup\n",
        "import requests\n",
        "import re\n",
        "import time\n",
        "\n",
        "import pymysql\n",
        "import pandas as pd\n",
        "import datetime\n",
        "import urllib.request, urllib.parse, urllib.error\n",
        "import json\n",
        "from pandas.io.json import json_normalize\n",
        "from urllib.parse import urlencode, urlparse, parse_qs\n",
        "from lxml.html import fromstring\n",
        "from requests import get\n",
        "from bs4 import BeautifulSoup\n",
        "import requests\n",
        "import re\n",
        "import time\n",
        "\n",
        "from selenium import webdriver \n",
        "from selenium.webdriver.common.keys import Keys\n",
        "from selenium.webdriver.common.by import By \n",
        "from selenium.webdriver.support.ui import WebDriverWait \n",
        "from selenium.webdriver.support import expected_conditions as EC \n",
        "from selenium.common.exceptions import TimeoutException\n",
        "from selenium.webdriver.chrome.options import Options\n",
        "import time\n"
      ],
      "execution_count": null,
      "outputs": []
    },
    {
      "cell_type": "code",
      "metadata": {
        "id": "01nc0X-VT2MT"
      },
      "source": [
        "# importar keys para OmDB API (la key la pueden obtener acá http://www.omdbapi.com/apikey.aspx)\n",
        "serviceurl = 'http://www.omdbapi.com/?'\n",
        "apikey = '&apikey='+\"e0dd629a\" # el segundo numero es la api key\n",
        "\n",
        "# Open database connection\n",
        "connection = pymysql.connect(host=\"mel.analytics.cl\", user=\"jcabeza\",password=\"09jcabeza40\",db=\"Cineplanet_Chile\", port=33060)\n",
        "\n",
        "# Esta es la consulta que devuelve las peliculas de los últimos 6 meses\n",
        "query = \"SELECT PEL_ID, PEL_NOMBRE_COMERCIAL, STR_TO_DATE(PEL_FECHA_ESTRENO, '%m/%d/%Y') AS Fecha FROM DIM_PELICULA WHERE  STR_TO_DATE(PEL_FECHA_ESTRENO, '%m/%d/%Y') >= DATE_SUB(NOW(), INTERVAL 6 MONTH);\"\n",
        "peliculas = pd.read_sql(query, connection)\n"
      ],
      "execution_count": null,
      "outputs": []
    },
    {
      "cell_type": "code",
      "metadata": {
        "id": "GCXIGxWsYjEP",
        "colab": {
          "base_uri": "https://localhost:8080/",
          "height": 221
        },
        "outputId": "b9cfc041-00b3-4ada-aea7-dffd79eb36cd"
      },
      "source": [
        "print(peliculas.shape)\n",
        "peliculas.tail()"
      ],
      "execution_count": null,
      "outputs": [
        {
          "output_type": "stream",
          "text": [
            "(108, 3)\n"
          ],
          "name": "stdout"
        },
        {
          "output_type": "execute_result",
          "data": {
            "text/plain": [
              "     PEL_ID                 PEL_NOMBRE_COMERCIAL       Fecha\n",
              "103    4389                 NADANDO POR UN SUEÑO  2019-05-09\n",
              "104    4390           POKMON: DETECTIVE PIKACHU  2019-05-09\n",
              "105    4391                            ROCKETMAN  2019-05-30\n",
              "106    4392  UGLYDOLLS: EXTRAORDINARIAMENTE FEOS  2019-05-16\n",
              "107    4393                  X-MEN: DARK PHOENIX  2019-06-06"
            ],
            "text/html": [
              "<div>\n",
              "<style scoped>\n",
              "    .dataframe tbody tr th:only-of-type {\n",
              "        vertical-align: middle;\n",
              "    }\n",
              "\n",
              "    .dataframe tbody tr th {\n",
              "        vertical-align: top;\n",
              "    }\n",
              "\n",
              "    .dataframe thead th {\n",
              "        text-align: right;\n",
              "    }\n",
              "</style>\n",
              "<table border=\"1\" class=\"dataframe\">\n",
              "  <thead>\n",
              "    <tr style=\"text-align: right;\">\n",
              "      <th></th>\n",
              "      <th>PEL_ID</th>\n",
              "      <th>PEL_NOMBRE_COMERCIAL</th>\n",
              "      <th>Fecha</th>\n",
              "    </tr>\n",
              "  </thead>\n",
              "  <tbody>\n",
              "    <tr>\n",
              "      <th>103</th>\n",
              "      <td>4389</td>\n",
              "      <td>NADANDO POR UN SUEÑO</td>\n",
              "      <td>2019-05-09</td>\n",
              "    </tr>\n",
              "    <tr>\n",
              "      <th>104</th>\n",
              "      <td>4390</td>\n",
              "      <td>POKMON: DETECTIVE PIKACHU</td>\n",
              "      <td>2019-05-09</td>\n",
              "    </tr>\n",
              "    <tr>\n",
              "      <th>105</th>\n",
              "      <td>4391</td>\n",
              "      <td>ROCKETMAN</td>\n",
              "      <td>2019-05-30</td>\n",
              "    </tr>\n",
              "    <tr>\n",
              "      <th>106</th>\n",
              "      <td>4392</td>\n",
              "      <td>UGLYDOLLS: EXTRAORDINARIAMENTE FEOS</td>\n",
              "      <td>2019-05-16</td>\n",
              "    </tr>\n",
              "    <tr>\n",
              "      <th>107</th>\n",
              "      <td>4393</td>\n",
              "      <td>X-MEN: DARK PHOENIX</td>\n",
              "      <td>2019-06-06</td>\n",
              "    </tr>\n",
              "  </tbody>\n",
              "</table>\n",
              "</div>"
            ]
          },
          "metadata": {
            "tags": []
          },
          "execution_count": 24
        }
      ]
    },
    {
      "cell_type": "code",
      "metadata": {
        "id": "G7G8mHqdYqm1"
      },
      "source": [
        "  # Funciones para lectura y guardado de omdb api\n",
        "\n",
        "  #Funcion para imprimir los datos de OMBDAPI Json\n",
        "  def print_json(json_data):\n",
        "      list_keys=['Title', 'Year', 'Rated', 'Released', 'Runtime', 'Genre', 'Director', 'Writer', \n",
        "                 'Actors', 'Plot', 'Language', 'Country', 'Awards', 'Ratings', \n",
        "                 'Metascore', 'imdbRating', 'imdbVotes', 'imdbID','Rated']\n",
        "      print(\"-\"*50)\n",
        "      for k in list_keys:\n",
        "          if k in list(json_data.keys()):\n",
        "              print(f\"{k}: {json_data[k]}\")\n",
        "      print(\"-\"*50)\n",
        "\n",
        "  # Funcion para buscar pelicula por su nombre    \n",
        "  def search_movie(title):\n",
        "      if len(title) < 1 or title=='quit': \n",
        "          print(\"Goodbye now...\")\n",
        "          return None\n",
        "      elif (title=='NO_ENCONTRADO') | (title=='Cinema +'):\n",
        "          print(\"Goodbye now...\")\n",
        "          return None\n",
        "      try:\n",
        "          url = serviceurl + urllib.parse.urlencode({'t': title})+apikey\n",
        "          print(f'Retrieving the data of \"{title}\" now... ')\n",
        "          uh = urllib.request.urlopen(url)\n",
        "          data = uh.read()\n",
        "          json_data=json.loads(data)\n",
        "          return(json_data)\n",
        "\n",
        "          #if json_data['Response']=='True':\n",
        "          #    print_json(json_data)\n",
        "\n",
        "          #else:\n",
        "          #    print(\"Error encountered: \",json_data['Error'])\n",
        "\n",
        "      except urllib.error.URLError as e:\n",
        "          print(f\"ERROR: {e.reason}\")\n",
        "          return None\n",
        "\n",
        "  # Función para buscar link en wikipedia de la película (Este código nos permite entregar un nombre en español en la query y que devuelva el link a la página de wikipedia de la película)\n",
        "  def search_wikipedia_link(title):\n",
        "    raw = get(\"https://www.google.com/search?q=\"+title+\" película wikipedia\").text\n",
        "    page = fromstring(raw)\n",
        "    resultados = True\n",
        "    while resultados is True:\n",
        "      paginas = []\n",
        "      #time.sleep(1)\n",
        "      for result in page.cssselect(\".r a\"):\n",
        "        url = result.get(\"href\")\n",
        "        if url.startswith(\"/url?\"):\n",
        "          url = parse_qs(urlparse(url).query)['q']\n",
        "          paginas.append(str(url[0]))\n",
        "        if len(paginas)>1:\n",
        "          wikipedia_page = paginas[0]\n",
        "          resultados = False\n",
        "          return(wikipedia_page)\n",
        "\n",
        "  # Función en que utilizamos el link de wikipedia para encontrar el título original de la película\n",
        "  def search_original_title(link):\n",
        "    url = requests.get(link).text\n",
        "    #Parse the HTML from our URL into the BeautifulSoup parse tree format\n",
        "    soup = BeautifulSoup(url, \"html.parser\")\n",
        "    #print(soup.prettify()) #Si queremos revisar el html de la página ejecutar esto\n",
        "    # busca cabecera cine de Wikipedia (tiene el titulo original de la película)\n",
        "    original_title = soup.find('th', {'class': 'cabecera cine'}).text\n",
        "    return(original_title)\n",
        "\n",
        "  def find_title(query):\n",
        "    url = \"https://www.google.com/search?q=\"+query+\" movie wikipedia\"\n",
        "    chromedriver = \"C:\\webdrivers\\chromedriver.exe\"\n",
        "    chrome_options = Options() \n",
        "    chrome_options.add_argument(\"--headless\")\n",
        "    driver = webdriver.Chrome(executable_path=chromedriver,chrome_options=chrome_options) \n",
        "    driver.get(url)\n",
        "    driver.find_element_by_class_name('LC20lb').click()\n",
        "    name = driver.find_element_by_tag_name('th').text  \n",
        "    #time.sleep(5)\n",
        "    #print(name)\n",
        "    driver.close()\n",
        "    return name"
      ],
      "execution_count": null,
      "outputs": []
    },
    {
      "cell_type": "code",
      "metadata": {
        "id": "C4LTOMS9ZjZQ",
        "colab": {
          "base_uri": "https://localhost:8080/",
          "height": 3726
        },
        "outputId": "9ab436e6-c64f-46f7-be32-61b9e57ee214"
      },
      "source": [
        "\n",
        "\n",
        "titulos=[]\n",
        "i=0\n",
        "for pel in peliculas['PEL_NOMBRE_COMERCIAL']:\n",
        "  print(i+1,\".\",pel)\n",
        "  try:\n",
        "    titulo_original = find_title(pel)\n",
        "  except:\n",
        "    titulo_original = 'NO_ENCONTRADO'\n",
        "  print(\"titulo original: \",titulo_original)\n",
        "  titulos.append(titulo_original)\n",
        "  i=i+1"
      ],
      "execution_count": null,
      "outputs": [
        {
          "output_type": "stream",
          "text": [
            "1 . ATAQUE SUBMARINO\n",
            "titulo original:  NO_ENCONTRADO\n",
            "2 . BTS WORLD TOUR: LOVE YOURSELF IN SEOUL\n",
            "titulo original:  NO_ENCONTRADO\n",
            "3 . BUMBLEBEE\n",
            "titulo original:  NO_ENCONTRADO\n",
            "4 . DESTRUCCIÓN\n",
            "titulo original:  NO_ENCONTRADO\n",
            "5 . DRAGON BALL SUPER BROLY\n",
            "titulo original:  NO_ENCONTRADO\n",
            "6 . EL GRAN TERREMOTO\n",
            "titulo original:  NO_ENCONTRADO\n",
            "7 . MÁQUINAS MORTALES\n",
            "titulo original:  NO_ENCONTRADO\n",
            "8 . NO QUIERO SER TU HERMANO\n",
            "titulo original:  NO_ENCONTRADO\n",
            "9 . ATENTADO EN EL ESTADIO\n",
            "titulo original:  NO_ENCONTRADO\n",
            "10 . BATTLE ANGEL: LA ULTIMA GUERRERA\n",
            "titulo original:  NO_ENCONTRADO\n",
            "11 . CÓMO ENTRENAR A TU DRAGÓN 3\n",
            "titulo original:  NO_ENCONTRADO\n",
            "12 . CICLO ANIME: LA TUMBA DE LAS LUCIERNAGAS\n",
            "titulo original:  NO_ENCONTRADO\n",
            "13 . CICLO ANIME: PAPRIKA DETECTIVE DE LOS SUEÑOS\n",
            "titulo original:  NO_ENCONTRADO\n",
            "14 . CINE ARTE CLÁSICO: TERCIOPELO AZUL\n",
            "titulo original:  NO_ENCONTRADO\n",
            "15 . CREED 2: DEFENDIENDO EL LEGADO\n",
            "titulo original:  NO_ENCONTRADO\n",
            "16 . DEMONIO DE MEDIANOCHE\n",
            "titulo original:  NO_ENCONTRADO\n",
            "17 . EL REGRESO DE MARY POPPINS\n",
            "titulo original:  NO_ENCONTRADO\n",
            "18 . ESCAPE ROOM: SIN SALIDA\n",
            "titulo original:  NO_ENCONTRADO\n",
            "19 . GLASS\n",
            "titulo original:  NO_ENCONTRADO\n",
            "20 . JEFA POR ACCIDENTE\n",
            "titulo original:  NO_ENCONTRADO\n",
            "21 . LA FAVORITA\n",
            "titulo original:  NO_ENCONTRADO\n",
            "22 . LA MULA\n",
            "titulo original:  NO_ENCONTRADO\n"
          ],
          "name": "stdout"
        },
        {
          "output_type": "stream",
          "text": [
            "c:\\users\\juan cabeza\\appdata\\local\\programs\\python\\python37\\lib\\site-packages\\ipykernel_launcher.py:70: DeprecationWarning: use options instead of chrome_options\n"
          ],
          "name": "stderr"
        },
        {
          "output_type": "stream",
          "text": [
            "23 . NACIDO PARA SER REY\n",
            "titulo original:  NO_ENCONTRADO\n",
            "24 . AMIGOS POR SIEMPRE\n",
            "titulo original:  NO_ENCONTRADO\n",
            "25 . CICLO ANIME: AKIRA\n",
            "titulo original:  NO_ENCONTRADO\n",
            "26 . CINE ARTE CLÁSICO: LA NARANJA MECÁNICA\n",
            "titulo original:  NO_ENCONTRADO\n",
            "27 . CINE ARTE: ETERNO RESPLANDOR DE UNA MENTE SIN RDO\n",
            "titulo original:  NO_ENCONTRADO\n",
            "28 . ¿PODRÁS PERDONARME?\n",
            "titulo original:  NO_ENCONTRADO\n",
            "29 . BEAUTIFUL BOY: SIEMPRE SERÁS MI HIJO\n",
            "titulo original:  NO_ENCONTRADO\n",
            "30 . CAPITANA MARVEL\n",
            "titulo original:  NO_ENCONTRADO\n",
            "31 . CICLO ANIME: EL VIAJE DE CHIHIRO\n",
            "titulo original:  NO_ENCONTRADO\n",
            "32 . CICLO ANIME: THE END OF EVANGELION\n",
            "titulo original:  NO_ENCONTRADO\n",
            "33 . EL MANICOMIO: LA CUNA DEL TERROR\n",
            "titulo original:  NO_ENCONTRADO\n",
            "34 . EL VICEPRESIDENTE, MÁS ALLÁ DEL PODER\n",
            "titulo original:  NO_ENCONTRADO\n",
            "35 . FELIZ DÍA DE TU MUERTE 2\n",
            "titulo original:  NO_ENCONTRADO\n",
            "36 . GREEN BOOK: UNA AMISTAD SIN FRONTERAS\n",
            "titulo original:  NO_ENCONTRADO\n",
            "37 . LA GRAN AVENTURA LEGO 2\n",
            "titulo original:  NO_ENCONTRADO\n",
            "38 . MALIGNO\n",
            "titulo original:  NO_ENCONTRADO\n",
            "39 . MIS HUELLAS A CASA\n",
            "titulo original:  NO_ENCONTRADO\n",
            "40 . REPLICAS\n",
            "titulo original:  NO_ENCONTRADO\n",
            "41 . SUSPIRIA\n",
            "titulo original:  NO_ENCONTRADO\n",
            "42 .  EL PRÍNCIPE ENCANTADOR\n",
            "titulo original:  NO_ENCONTRADO\n",
            "43 . A DOS METROS DE TI\n",
            "titulo original:  NO_ENCONTRADO\n",
            "44 . AFTER: AQUÍ EMPIEZA TODO\n",
            "titulo original:  NO_ENCONTRADO\n",
            "45 . CEMENTERIO MALDITO\n",
            "titulo original:  NO_ENCONTRADO\n",
            "46 . CICLO ANIME: LA PRINCESA MONONOKE\n",
            "titulo original:  NO_ENCONTRADO\n",
            "47 . CINE ARTE CLÁSICO: ANGEL - A\n",
            "titulo original:  NO_ENCONTRADO\n",
            "48 . CINE ARTE CLÁSICO: BRAZIL\n",
            "titulo original:  NO_ENCONTRADO\n",
            "49 . CINE ARTE CLÁSICO: GUMMO\n",
            "titulo original:  NO_ENCONTRADO\n",
            "50 . CINE ARTE CLÁSICO: MULHOLLAND DRIVE\n",
            "titulo original:  NO_ENCONTRADO\n",
            "51 . CLIMAX\n",
            "titulo original:  NO_ENCONTRADO\n",
            "52 . DUMBO\n",
            "titulo original:  NO_ENCONTRADO\n",
            "53 . FLOW\n",
            "titulo original:  NO_ENCONTRADO\n",
            "54 . LA MISMA SANGRE\n",
            "titulo original:  NO_ENCONTRADO\n",
            "55 . LA REBELIÓN\n",
            "titulo original:  NO_ENCONTRADO\n",
            "56 . LA VOZ DE LA IGUALDAD\n",
            "titulo original:  NO_ENCONTRADO\n",
            "57 . LAS DOS REINAS\n",
            "titulo original:  NO_ENCONTRADO\n",
            "58 . MARILYN\n",
            "titulo original:  NO_ENCONTRADO\n",
            "59 . MARYLIN\n",
            "titulo original:  NO_ENCONTRADO\n",
            "60 . NOSOTROS\n",
            "titulo original:  NO_ENCONTRADO\n",
            "61 . PARQUE MÁGICO\n",
            "titulo original:  NO_ENCONTRADO\n",
            "62 . REGRESA A MÍ\n",
            "titulo original:  NO_ENCONTRADO\n",
            "63 . ­SHAZAM!\n",
            "titulo original:  NO_ENCONTRADO\n",
            "64 . UN LADRÓN CON ESTILO\n",
            "titulo original:  NO_ENCONTRADO\n",
            "65 . VENGANZA\n",
            "titulo original:  NO_ENCONTRADO\n",
            "66 . VIVIENDO CON EL ENEMIGO\n",
            "titulo original:  NO_ENCONTRADO\n",
            "67 . AVENGERS: ENDGAME\n",
            "titulo original:  NO_ENCONTRADO\n",
            "68 . CICLO ANIME: EL CASTILLO EN EL CIELO\n",
            "titulo original:  NO_ENCONTRADO\n",
            "69 . CICLO ANIME: SAILOR MOON R THE MOVIE\n",
            "titulo original:  NO_ENCONTRADO\n",
            "70 . CINE ARTE CLÁSICO: 1984\n",
            "titulo original:  NO_ENCONTRADO\n",
            "71 . CINE ARTE CLÁSICO: CARRETERA PERDIDA\n",
            "titulo original:  NO_ENCONTRADO\n",
            "72 . COLA DE MONO\n",
            "titulo original:  NO_ENCONTRADO\n",
            "73 . CORGI EL PERRO REAL\n",
            "titulo original:  NO_ENCONTRADO\n",
            "74 . DETECTIVE PIKACHU\n",
            "titulo original:  NO_ENCONTRADO\n",
            "75 . HELLBOY\n",
            "titulo original:  NO_ENCONTRADO\n",
            "76 . LA MALDICIÓN DE LA LLORONA\n",
            "titulo original:  NO_ENCONTRADO\n",
            "77 . LUCHANDO CON MI FAMILIA\n",
            "titulo original:  NO_ENCONTRADO\n",
            "78 . OBSESIÓN\n",
            "titulo original:  NO_ENCONTRADO\n",
            "79 . PAJARITOS A VOLAR\n",
            "titulo original:  NO_ENCONTRADO\n",
            "80 . TARDE PARA MORIR JOVEN\n",
            "titulo original:  NO_ENCONTRADO\n",
            "81 . ALADDIN\n",
            "titulo original:  NO_ENCONTRADO\n",
            "82 . BRIGHTBURN, HIJO DE LA OSCURIDAD\n",
            "titulo original:  NO_ENCONTRADO\n",
            "83 . CICLO ANIME 2019: COWBOY BEBOP\n",
            "titulo original:  NO_ENCONTRADO\n",
            "84 . CICLO ANIME 2019: COWBOY BEBOY\n",
            "titulo original:  NO_ENCONTRADO\n",
            "85 . CICLO ANIME 2019: MI VECINO TOTORO\n",
            "titulo original:  NO_ENCONTRADO\n",
            "86 . CICLO ANIME 2019: YOUR NAME\n",
            "titulo original:  NO_ENCONTRADO\n",
            "87 . CICLO ANIME: MI VECINO TOTORO\n",
            "titulo original:  NO_ENCONTRADO\n",
            "88 . CINE ARTE 2019: EL SECRETO DE SUS OJOS\n",
            "titulo original:  NO_ENCONTRADO\n",
            "89 . CINE ARTE 2019: LOS PAJAROS\n",
            "titulo original:  NO_ENCONTRADO\n",
            "90 . CINE ARTE 2019: ORGULLO Y PREJUICIO\n",
            "titulo original:  NO_ENCONTRADO\n",
            "91 . CINE ARTE 2019: YELLOW SUBMARINE\n",
            "titulo original:  NO_ENCONTRADO\n",
            "92 . DIOS\n",
            "titulo original:  NO_ENCONTRADO\n",
            "93 . EL CUENTO DE LAS COMADREJAS\n",
            "titulo original:  NO_ENCONTRADO\n",
            "94 . EL SOL TAMBIN ES UNA ESTRELLA\n",
            "titulo original:  NO_ENCONTRADO\n",
            "95 . EN TU PIEL\n",
            "titulo original:  NO_ENCONTRADO\n",
            "96 . GLORIA BELL\n",
            "titulo original:  NO_ENCONTRADO\n",
            "97 . GODZILLA 2: EL REY DE LOS MONSTRUOS\n",
            "titulo original:  NO_ENCONTRADO\n",
            "98 . JOHN WICK 3 PARABELLUM\n",
            "titulo original:  NO_ENCONTRADO\n",
            "99 . LA MALDICIÓN\n",
            "titulo original:  NO_ENCONTRADO\n",
            "100 . LA RAZON DE ESTAR CONTIGO, UN NUEVO VIAJE\n",
            "titulo original:  NO_ENCONTRADO\n",
            "101 . MAESTRAS DEL ENGAÑO\n",
            "titulo original:  NO_ENCONTRADO\n",
            "102 . MEDEA\n",
            "titulo original:  NO_ENCONTRADO\n",
            "103 . MI AMIGO ALEXIS\n",
            "titulo original:  NO_ENCONTRADO\n",
            "104 . NADANDO POR UN SUEÑO\n",
            "titulo original:  NO_ENCONTRADO\n",
            "105 . POKMON: DETECTIVE PIKACHU\n",
            "titulo original:  NO_ENCONTRADO\n",
            "106 . ROCKETMAN\n",
            "titulo original:  NO_ENCONTRADO\n",
            "107 . UGLYDOLLS: EXTRAORDINARIAMENTE FEOS\n",
            "titulo original:  NO_ENCONTRADO\n",
            "108 . X-MEN: DARK PHOENIX\n",
            "titulo original:  NO_ENCONTRADO\n"
          ],
          "name": "stdout"
        }
      ]
    },
    {
      "cell_type": "code",
      "metadata": {
        "id": "JdyXuroOZ6k-"
      },
      "source": [
        "titulos = ['Brightburn', 'Aladdin', 'Rocketman', 'X-MEN: DARK PHOENIX', 'Mi amigo alexis', 'Godzilla: King of the Monsters', 'EL CUENTO DE LAS COMADREJAS']"
      ],
      "execution_count": null,
      "outputs": []
    },
    {
      "cell_type": "code",
      "metadata": {
        "id": "nL5En1P9b7Y0",
        "colab": {
          "base_uri": "https://localhost:8080/",
          "height": 680
        },
        "outputId": "089cba6c-49d1-4445-d111-575e057ae7ca"
      },
      "source": [
        "# Construir el DataFrame\n",
        "data_movies = pd.DataFrame(columns=['Actors','Country','Director','Genre','Language','Metascore','Plot','Production','Released','Runtime','Title','Year','imdbRating','imdbVotes'])\n",
        "not_founds=[]\n",
        "for tit in titulos:\n",
        "  if (tit!='NO_ENCONTRADO') & (tit!='Cinema +'):\n",
        "    pelicula = search_movie(tit)\n",
        "    try:\n",
        "      bla = pd.DataFrame({'Actors': [pelicula['Actors']]\n",
        "                 ,'Country':[pelicula['Country']]\n",
        "                 ,'Director' : [pelicula['Director']]\n",
        "                 ,'Genre':[pelicula['Genre']]\n",
        "                 ,'Language':[pelicula['Language']]\n",
        "                 ,'Metascore':[pelicula['Metascore']]\n",
        "                 ,'Plot':[pelicula['Plot']]\n",
        "                 ,'Production':[pelicula['Production']]\n",
        "                 ,'Released':[pelicula['Released']]\n",
        "                 ,'Runtime':[pelicula['Runtime']]\n",
        "                 ,'Title':[pelicula['Title']]\n",
        "                 ,'Year':[pelicula['Year']]\n",
        "                 ,'imdbRating':[pelicula['imdbRating']]\n",
        "                 ,'imdbVotes':[pelicula['imdbVotes']]\n",
        "                 })\n",
        "      data_movies = data_movies.append(bla)\n",
        "    except:\n",
        "      not_founds.append(tit)\n",
        "      #print('Pelicula No Encontrada: ', tit)\n",
        "\n",
        "data_movies.index = range(0,data_movies.shape[0])\n",
        "print(not_founds)\n",
        "print(data_movies.shape)\n",
        "data_movies.to_csv('data.csv')\n",
        "data_movies.head()"
      ],
      "execution_count": null,
      "outputs": [
        {
          "output_type": "stream",
          "text": [
            "Retrieving the data of \"Brightburn\" now... \n",
            "Retrieving the data of \"Aladdin\" now... \n",
            "Retrieving the data of \"Rocketman\" now... \n",
            "Retrieving the data of \"X-MEN: DARK PHOENIX\" now... \n",
            "Retrieving the data of \"Mi amigo alexis\" now... \n",
            "Retrieving the data of \"Godzilla: King of the Monsters\" now... \n",
            "Retrieving the data of \"EL CUENTO DE LAS COMADREJAS\" now... \n",
            "['X-MEN: DARK PHOENIX', 'EL CUENTO DE LAS COMADREJAS']\n",
            "(5, 14)\n"
          ],
          "name": "stdout"
        },
        {
          "output_type": "execute_result",
          "data": {
            "text/plain": [
              "                                              Actors     Country  \\\n",
              "0  Elizabeth Banks, David Denman, Jackson A. Dunn...         USA   \n",
              "1  Scott Weinger, Robin Williams, Linda Larkin, J...         USA   \n",
              "2  Harland Williams, Jessica Lundy, William Sadle...         USA   \n",
              "3  Ivan Alvarez de Araya, Nathalia Aragonese, Mar...       Chile   \n",
              "4  Raymond Burr, Takashi Shimura, Momoko Kôchi, A...  USA, Japan   \n",
              "\n",
              "                        Director  \\\n",
              "0                David Yarovesky   \n",
              "1      Ron Clements, John Musker   \n",
              "2                 Stuart Gillard   \n",
              "3  Alejandro Fernández Almendras   \n",
              "4   Ishirô Honda, Terry O. Morse   \n",
              "\n",
              "                                               Genre           Language  \\\n",
              "0                                     Horror, Sci-Fi            English   \n",
              "1  Animation, Adventure, Comedy, Family, Fantasy,...            English   \n",
              "2                             Comedy, Family, Sci-Fi            English   \n",
              "3            Adventure, Comedy, Drama, Family, Sport            Spanish   \n",
              "4                             Action, Horror, Sci-Fi  English, Japanese   \n",
              "\n",
              "  Metascore                                               Plot  \\\n",
              "0        44  What if a child from another world crash-lande...   \n",
              "1        86  A kindhearted street urchin and a power-hungry...   \n",
              "2       N/A  Fred Z. Randall is a geeky spacecraft designer...   \n",
              "3       N/A                                                N/A   \n",
              "4        60  A 400-foot (122-meter) dinosaur-like beast, aw...   \n",
              "\n",
              "                Production     Released Runtime  \\\n",
              "0              Screen Gems  24 May 2019  90 min   \n",
              "1     Walt Disney Pictures  25 Nov 1992  90 min   \n",
              "2  Walt Disney Productions  10 Oct 1997  95 min   \n",
              "3                      N/A  30 May 2019     N/A   \n",
              "4            Vestron Video  27 Apr 1956  80 min   \n",
              "\n",
              "                             Title  Year imdbRating imdbVotes  \n",
              "0                       Brightburn  2019        6.5    13,497  \n",
              "1                          Aladdin  1992        8.0   317,790  \n",
              "2                        RocketMan  1997        5.9     8,411  \n",
              "3                  Mi Amigo Alexis  2019        N/A       N/A  \n",
              "4  Godzilla, King of the Monsters!  1956        6.6     6,254  "
            ],
            "text/html": [
              "<div>\n",
              "<style scoped>\n",
              "    .dataframe tbody tr th:only-of-type {\n",
              "        vertical-align: middle;\n",
              "    }\n",
              "\n",
              "    .dataframe tbody tr th {\n",
              "        vertical-align: top;\n",
              "    }\n",
              "\n",
              "    .dataframe thead th {\n",
              "        text-align: right;\n",
              "    }\n",
              "</style>\n",
              "<table border=\"1\" class=\"dataframe\">\n",
              "  <thead>\n",
              "    <tr style=\"text-align: right;\">\n",
              "      <th></th>\n",
              "      <th>Actors</th>\n",
              "      <th>Country</th>\n",
              "      <th>Director</th>\n",
              "      <th>Genre</th>\n",
              "      <th>Language</th>\n",
              "      <th>Metascore</th>\n",
              "      <th>Plot</th>\n",
              "      <th>Production</th>\n",
              "      <th>Released</th>\n",
              "      <th>Runtime</th>\n",
              "      <th>Title</th>\n",
              "      <th>Year</th>\n",
              "      <th>imdbRating</th>\n",
              "      <th>imdbVotes</th>\n",
              "    </tr>\n",
              "  </thead>\n",
              "  <tbody>\n",
              "    <tr>\n",
              "      <th>0</th>\n",
              "      <td>Elizabeth Banks, David Denman, Jackson A. Dunn...</td>\n",
              "      <td>USA</td>\n",
              "      <td>David Yarovesky</td>\n",
              "      <td>Horror, Sci-Fi</td>\n",
              "      <td>English</td>\n",
              "      <td>44</td>\n",
              "      <td>What if a child from another world crash-lande...</td>\n",
              "      <td>Screen Gems</td>\n",
              "      <td>24 May 2019</td>\n",
              "      <td>90 min</td>\n",
              "      <td>Brightburn</td>\n",
              "      <td>2019</td>\n",
              "      <td>6.5</td>\n",
              "      <td>13,497</td>\n",
              "    </tr>\n",
              "    <tr>\n",
              "      <th>1</th>\n",
              "      <td>Scott Weinger, Robin Williams, Linda Larkin, J...</td>\n",
              "      <td>USA</td>\n",
              "      <td>Ron Clements, John Musker</td>\n",
              "      <td>Animation, Adventure, Comedy, Family, Fantasy,...</td>\n",
              "      <td>English</td>\n",
              "      <td>86</td>\n",
              "      <td>A kindhearted street urchin and a power-hungry...</td>\n",
              "      <td>Walt Disney Pictures</td>\n",
              "      <td>25 Nov 1992</td>\n",
              "      <td>90 min</td>\n",
              "      <td>Aladdin</td>\n",
              "      <td>1992</td>\n",
              "      <td>8.0</td>\n",
              "      <td>317,790</td>\n",
              "    </tr>\n",
              "    <tr>\n",
              "      <th>2</th>\n",
              "      <td>Harland Williams, Jessica Lundy, William Sadle...</td>\n",
              "      <td>USA</td>\n",
              "      <td>Stuart Gillard</td>\n",
              "      <td>Comedy, Family, Sci-Fi</td>\n",
              "      <td>English</td>\n",
              "      <td>N/A</td>\n",
              "      <td>Fred Z. Randall is a geeky spacecraft designer...</td>\n",
              "      <td>Walt Disney Productions</td>\n",
              "      <td>10 Oct 1997</td>\n",
              "      <td>95 min</td>\n",
              "      <td>RocketMan</td>\n",
              "      <td>1997</td>\n",
              "      <td>5.9</td>\n",
              "      <td>8,411</td>\n",
              "    </tr>\n",
              "    <tr>\n",
              "      <th>3</th>\n",
              "      <td>Ivan Alvarez de Araya, Nathalia Aragonese, Mar...</td>\n",
              "      <td>Chile</td>\n",
              "      <td>Alejandro Fernández Almendras</td>\n",
              "      <td>Adventure, Comedy, Drama, Family, Sport</td>\n",
              "      <td>Spanish</td>\n",
              "      <td>N/A</td>\n",
              "      <td>N/A</td>\n",
              "      <td>N/A</td>\n",
              "      <td>30 May 2019</td>\n",
              "      <td>N/A</td>\n",
              "      <td>Mi Amigo Alexis</td>\n",
              "      <td>2019</td>\n",
              "      <td>N/A</td>\n",
              "      <td>N/A</td>\n",
              "    </tr>\n",
              "    <tr>\n",
              "      <th>4</th>\n",
              "      <td>Raymond Burr, Takashi Shimura, Momoko Kôchi, A...</td>\n",
              "      <td>USA, Japan</td>\n",
              "      <td>Ishirô Honda, Terry O. Morse</td>\n",
              "      <td>Action, Horror, Sci-Fi</td>\n",
              "      <td>English, Japanese</td>\n",
              "      <td>60</td>\n",
              "      <td>A 400-foot (122-meter) dinosaur-like beast, aw...</td>\n",
              "      <td>Vestron Video</td>\n",
              "      <td>27 Apr 1956</td>\n",
              "      <td>80 min</td>\n",
              "      <td>Godzilla, King of the Monsters!</td>\n",
              "      <td>1956</td>\n",
              "      <td>6.6</td>\n",
              "      <td>6,254</td>\n",
              "    </tr>\n",
              "  </tbody>\n",
              "</table>\n",
              "</div>"
            ]
          },
          "metadata": {
            "tags": []
          },
          "execution_count": 36
        }
      ]
    },
    {
      "cell_type": "code",
      "metadata": {
        "id": "YkPLTQc-c1t7",
        "colab": {
          "base_uri": "https://localhost:8080/",
          "height": 34
        },
        "outputId": "84a62e8e-b985-4c38-e596-f61c6edb6070"
      },
      "source": [
        "# Separacion de los valores dentro de la columna de genero\n",
        "\n",
        "import numpy as np\n",
        "from itertools import chain\n",
        "\n",
        "# Funcion para retornar lista con los valores separados\n",
        "\n",
        "def chainer(s):\n",
        "    return list(chain.from_iterable(s.str.split(', ')))\n",
        "\n",
        "# numero de separaciones de cada valores en la columna de Genero\n",
        "lens = data_movies['Genre'].str.split(', ').map(len)\n",
        "\n",
        "# Repito los valores las cantidad de veces que tengan diferentes valores en la columna\n",
        "\n",
        "dataframe_genero = pd.DataFrame({'Actors': np.repeat(data_movies['Actors'], lens),\n",
        "                    'Country': np.repeat(data_movies['Country'], lens),\n",
        "                    'Director': np.repeat(data_movies['Director'], lens),\n",
        "                    'Genre': chainer(data_movies['Genre']),\n",
        "                    'Language': np.repeat(data_movies['Language'], lens),\n",
        "                    'Metascore': np.repeat(data_movies['Metascore'], lens),\n",
        "                    'Plot': np.repeat(data_movies['Plot'], lens),\n",
        "                    'Production': np.repeat(data_movies['Production'], lens),\n",
        "                    'Released': np.repeat(data_movies['Released'], lens),\n",
        "                    'Runtime': np.repeat(data_movies['Runtime'], lens),\n",
        "                    'Title': np.repeat(data_movies['Title'], lens),\n",
        "                    'Year': np.repeat(data_movies['Year'], lens),\n",
        "                    'imdbRating': np.repeat(data_movies['imdbRating'], lens),\n",
        "                    'imdbVotes': np.repeat(data_movies['imdbVotes'], lens)\n",
        "                    })\n",
        "\n",
        "dataframe_genero.shape"
      ],
      "execution_count": null,
      "outputs": [
        {
          "output_type": "execute_result",
          "data": {
            "text/plain": [
              "(20, 14)"
            ]
          },
          "metadata": {
            "tags": []
          },
          "execution_count": 37
        }
      ]
    },
    {
      "cell_type": "code",
      "metadata": {
        "id": "oDcDf9BjdpZF",
        "colab": {
          "base_uri": "https://localhost:8080/",
          "height": 338
        },
        "outputId": "0b45f0a0-d1af-48d2-ccee-10576ff5d9ca"
      },
      "source": [
        "grafico = dataframe_genero.groupby(['Genre']).size()\n",
        "grafico.plot.bar()\n",
        "\n",
        "#from google.colab import files\n",
        "#plt.savefig(\"plot_genre.png\")\n",
        "#files.download(\"plot_genre.png\")"
      ],
      "execution_count": null,
      "outputs": [
        {
          "output_type": "execute_result",
          "data": {
            "text/plain": [
              "<matplotlib.axes._subplots.AxesSubplot at 0xb4e5f4f828>"
            ]
          },
          "metadata": {
            "tags": []
          },
          "execution_count": 38
        },
        {
          "output_type": "display_data",
          "data": {
            "text/plain": [
              "<Figure size 432x288 with 1 Axes>"
            ],
            "image/png": "[encoded data removed]"
          },
          "metadata": {
            "tags": [],
            "needs_background": "light"
          }
        }
      ]
    },
    {
      "cell_type": "code",
      "metadata": {
        "id": "WRBEnCQHVN60"
      },
      "source": [
        "titulos = ['Aquaman', 'Instant Family', 'Robin Hood', 'Widows', 'Hunter Killer',\n",
        "       'BTS World Tour: Love Yourself in Seoul', 'Bumblebee', 'The Shining',\n",
        "       'Girl, Interrupted', 'The Doors', 'Wildling',\n",
        "       'Dragon Ball Super: Broly', 'Lizzie', 'Deadpool 2', 'Hell Fest',\n",
        "       'The House That Jack Built', 'Mortal Engines',\n",
        "       'No Quiero Ser Tu Hermano', 'Spider-Man: Into the Spider-Verse',\n",
        "       'Final Score', 'Alita: Battle Angel', 'How to Train Your Dragon',\n",
        "       'Blue Velvet', 'Creed II', 'Night of the Demons',\n",
        "       'Mary Poppins Returns', 'Escape Room', 'Glass', 'Second Act',\n",
        "       'The Favourite', 'The Mule', 'The Kid Who Would Be King',\n",
        "       'The American Film Institute Presents: TV or Not TV?',\n",
        "       'Eternal Sunshine of the Spotless Mind', 'Can You Ever Forgive Me?',\n",
        "       'Beautiful', 'Captain Marvel', 'The World According to Dick Cheney',\n",
        "       'Happy Death Day 2U', 'Green Book', 'The Lego Movie 2: The Second Part',\n",
        "       'The Prodigy', 'A Dogs Way Home', 'Replicas', 'Suspiria', 'Charming',\n",
        "       'Five Feet Apart', 'After', 'Pet Sematary', 'Angel-A', 'Brazil',\n",
        "       'Gummo', 'Mulholland Drive', 'Climax', 'Dumbo', 'Flow',\n",
        "       'La misma carne, la misma sangre', 'The Outcasts',\n",
        "       'On the Basis of Sex', 'Mary Queen of Scots', 'Marilyn', 'Marilyn',\n",
        "       'Us', 'Shazam!', 'Cold Pursuit', 'The Aftermath', 'Avengers: Endgame',\n",
        "       'Tenkû no shiro Rapyuta: Promotion', 'Nineteen Eighty-Four',\n",
        "       'Lost Highway', 'Cola de mono', 'The Queens Corgi',\n",
        "       'Pokémon Detective Pikachu', 'Hellboy', 'The Curse of La Llorona',\n",
        "       'Fighting with My Family', 'Imagen', 'Brightburn', 'El cuento de las comadrejas']"
      ],
      "execution_count": null,
      "outputs": []
    },
    {
      "cell_type": "code",
      "metadata": {
        "id": "rdT7vzh45UTE",
        "colab": {
          "base_uri": "https://localhost:8080/",
          "height": 354
        },
        "outputId": "fad3ba3e-4ec7-4938-fec2-e77418680526"
      },
      "source": [
        "\n",
        "\n"
      ],
      "execution_count": null,
      "outputs": [
        {
          "output_type": "execute_result",
          "data": {
            "text/plain": [
              "<matplotlib.axes._subplots.AxesSubplot at 0x60a5028470>"
            ]
          },
          "metadata": {
            "tags": []
          },
          "execution_count": 81
        },
        {
          "output_type": "display_data",
          "data": {
            "text/plain": [
              "<Figure size 432x288 with 1 Axes>"
            ],
            "image/png": "[encoded data removed]"
          },
          "metadata": {
            "tags": [],
            "needs_background": "light"
          }
        }
      ]
    }
  ]
}